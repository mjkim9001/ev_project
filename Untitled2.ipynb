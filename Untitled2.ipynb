{
 "cells": [
  {
   "cell_type": "code",
   "execution_count": 16,
   "metadata": {},
   "outputs": [],
   "source": [
    "from selenium import webdriver\n",
    "import time\n",
    "import numpy as np\n",
    "import pandas as pd\n",
    "import requests\n",
    "from bs4 import BeautifulSoup\n",
    "from urllib.request import urlopen\n",
    "import pandas as pd\n",
    "from urllib.parse import urljoin\n",
    "import re\n",
    "import time"
   ]
  },
  {
   "cell_type": "code",
   "execution_count": 17,
   "metadata": {},
   "outputs": [],
   "source": [
    "url = 'https://www.ev.or.kr/portal/monitor/evminfo?sid=ME18C182&_=1600234995815'\n",
    "html = urlopen(url)\n",
    "soup = BeautifulSoup(html, 'html.parser')\n",
    "\n",
    "charger=[]\n",
    "td2 = soup.find_all(class_='td2')\n",
    "for te in td2[0:]:\n",
    "    test=[]\n",
    "    for a in te.find_all('span'):\n",
    "        if a.get_text()=='사용가능':\n",
    "            break\n",
    "        elif a.get_text()=='사용중':\n",
    "            break\n",
    "        elif a.get_text()=='사용불가':\n",
    "            break\n",
    "        elif a.get_text()==' ':\n",
    "            break\n",
    "        elif len(a.get_text())<7:\n",
    "            tmp=[]\n",
    "            tmp.append(a.get_text())\n",
    "                        #print(tmp)\n",
    "            test+=tmp\n",
    "    test= str(\"+\".join(test))\n",
    "    charger.append(test)\n",
    "    if test!=None:\n",
    "        break"
   ]
  },
  {
   "cell_type": "code",
   "execution_count": 15,
   "metadata": {},
   "outputs": [
    {
     "name": "stdout",
     "output_type": "stream",
     "text": [
      "['DC차데모+AC3상+DC콤보']\n"
     ]
    }
   ],
   "source": [
    "print(charger)"
   ]
  },
  {
   "cell_type": "code",
   "execution_count": 22,
   "metadata": {},
   "outputs": [
    {
     "name": "stdout",
     "output_type": "stream",
     "text": [
      "['부산광역시', '사하구', '을숙도대로', '665', '']\n"
     ]
    }
   ],
   "source": [
    "for tmp_using in soup.find_all(class_='table_01'):\n",
    "    info_tmp = soup.find_all(class_='table_02')\n",
    "    dinfo = info_tmp[0].find_all('td')\n",
    "    gu_tmp = dinfo[0].get_text().split(' ')\n",
    "    print(gu_tmp)"
   ]
  },
  {
   "cell_type": "code",
   "execution_count": null,
   "metadata": {},
   "outputs": [],
   "source": []
  }
 ],
 "metadata": {
  "kernelspec": {
   "display_name": "Python 3",
   "language": "python",
   "name": "python3"
  },
  "language_info": {
   "codemirror_mode": {
    "name": "ipython",
    "version": 3
   },
   "file_extension": ".py",
   "mimetype": "text/x-python",
   "name": "python",
   "nbconvert_exporter": "python",
   "pygments_lexer": "ipython3",
   "version": "3.7.7"
  }
 },
 "nbformat": 4,
 "nbformat_minor": 4
}
