{
 "cells": [
  {
   "cell_type": "code",
   "execution_count": 6,
   "metadata": {},
   "outputs": [],
   "source": [
    "import requests\n",
    "from bs4 import BeautifulSoup\n",
    "from urllib.request import urlopen\n",
    "import pandas as pd\n",
    "from urllib.parse import urljoin"
   ]
  },
  {
   "cell_type": "code",
   "execution_count": 68,
   "metadata": {},
   "outputs": [],
   "source": [
    "b = ['A','B','C']"
   ]
  },
  {
   "cell_type": "code",
   "execution_count": 47,
   "metadata": {},
   "outputs": [],
   "source": [
    "\n",
    "url_base = 'https://www.ev.or.kr/portal/monitor/evminfo?'\n",
    "url_add = 'sid=30110001'\n",
    "url = url_base+url_add\n",
    "html = urlopen(url)\n",
    "\n",
    "soup = BeautifulSoup(html, 'html.parser')"
   ]
  },
  {
   "cell_type": "code",
   "execution_count": 18,
   "metadata": {},
   "outputs": [
    {
     "name": "stdout",
     "output_type": "stream",
     "text": [
      "KH양주휴게소\n"
     ]
    }
   ],
   "source": [
    "for name in soup.find_all('h2'):\n",
    "    print(name.get_text())"
   ]
  },
  {
   "cell_type": "code",
   "execution_count": 103,
   "metadata": {},
   "outputs": [
    {
     "name": "stdout",
     "output_type": "stream",
     "text": [
      "경기도 양주시 장흥면 서울외곽순환고속도로 58  환경부(한국자동차환경협회) 1661-9408 유료\r\n",
      "\t\t\t 급속(50kW)\r\n",
      "\t\t\t \r\n",
      "\t\t\t없음 \n",
      "['사용가능']\n"
     ]
    }
   ],
   "source": [
    "tmp = soup.find_all(class_='table_02')\n",
    "dinfo = tmp[0].find_all('td')\n",
    "add = dinfo[0].get_text()\n",
    "agency = dinfo[1].get_text()\n",
    "phone = dinfo[2].get_text()\n",
    "fee = dinfo[3].get_text()\n",
    "amount = dinfo[4].get_text()\n",
    "etc = dinfo[5].get_text()\n",
    "print(add, agency, phone, fee, amount, etc)\n",
    "tmp_using = soup.find_all(class_='ev_char c01')\n",
    "using =[]\n",
    "using.append(tmp_using[0].get_text())\n",
    "print(using)"
   ]
  },
  {
   "cell_type": "code",
   "execution_count": 121,
   "metadata": {},
   "outputs": [
    {
     "data": {
      "text/plain": [
       "'\\n사용중\\n'"
      ]
     },
     "execution_count": 121,
     "metadata": {},
     "output_type": "execute_result"
    }
   ],
   "source": [
    "tmp_using = soup.find_all(class_='td3')\n",
    "tmp_using[0].get_text()\n",
    "#using.append(tmp_using[0].get_text())\n"
   ]
  },
  {
   "cell_type": "code",
   "execution_count": 4,
   "metadata": {},
   "outputs": [],
   "source": [
    "url1 = 'https://www.ev.or.kr'\n",
    "html = urlopen(url1)\n",
    "soup = BeautifulSoup(html, 'html.parser')"
   ]
  },
  {
   "cell_type": "code",
   "execution_count": 5,
   "metadata": {
    "scrolled": false
   },
   "outputs": [
    {
     "data": {
      "text/plain": [
       "[]"
      ]
     },
     "execution_count": 5,
     "metadata": {},
     "output_type": "execute_result"
    }
   ],
   "source": [
    "a = soup.find_all('fw_path')\n",
    "a"
   ]
  },
  {
   "cell_type": "code",
   "execution_count": 161,
   "metadata": {},
   "outputs": [],
   "source": [
    "typ=[]"
   ]
  },
  {
   "cell_type": "code",
   "execution_count": 164,
   "metadata": {
    "scrolled": true
   },
   "outputs": [
    {
     "data": {
      "text/plain": [
       "2"
      ]
     },
     "execution_count": 164,
     "metadata": {},
     "output_type": "execute_result"
    }
   ],
   "source": [
    "ty_tmp = soup.find_all('dd')\n",
    "len(ty_tmp)"
   ]
  },
  {
   "cell_type": "code",
   "execution_count": 177,
   "metadata": {},
   "outputs": [
    {
     "name": "stdout",
     "output_type": "stream",
     "text": [
      "2 0 0\n"
     ]
    }
   ],
   "source": [
    "tmp_using = soup.find_all(class_='td3')\n",
    "nouse=0\n",
    "using=0\n",
    "ben=0\n",
    "for tmp_using in soup.find_all(class_='td3'):\n",
    "    a = tmp_using.find_all('span')\n",
    "    tmp = a[0].get_text()\n",
    "    if tmp =='사용가능':\n",
    "        nouse +=1\n",
    "    elif tmp == '사용중':\n",
    "        using +=1\n",
    "    else:\n",
    "        ben +=1\n",
    "print(nouse, using, ben)"
   ]
  },
  {
   "cell_type": "code",
   "execution_count": 38,
   "metadata": {},
   "outputs": [
    {
     "name": "stdout",
     "output_type": "stream",
     "text": [
      " \r\n",
      "\t\t\t \n",
      "DC콤보\n",
      "아이오닉스파크볼트i3코나쏘울니로\n",
      " \r\n",
      "\t\t\t \n",
      "DC콤보\n",
      "아이오닉스파크볼트i3코나쏘울니로\n"
     ]
    }
   ],
   "source": [
    "for tmp_using in soup.find_all(class_='td2'):\n",
    "    a = tmp_using.find_all('span')\n",
    "    print(a[0].get_text())\n",
    "    print(a[1].get_text())\n",
    "    print(a[2].get_text())"
   ]
  },
  {
   "cell_type": "code",
   "execution_count": 50,
   "metadata": {},
   "outputs": [
    {
     "name": "stdout",
     "output_type": "stream",
     "text": [
      "DC차데모\n",
      "AC3상\n"
     ]
    }
   ],
   "source": [
    "for tmp_using in soup.find_all(class_='td2'):\n",
    "    for a in tmp_using.find_all('span'):\n",
    "        if a.get_text()=='사용가능':\n",
    "            break\n",
    "        else:\n",
    "            print(a.get_text())"
   ]
  },
  {
   "cell_type": "code",
   "execution_count": 62,
   "metadata": {},
   "outputs": [
    {
     "name": "stdout",
     "output_type": "stream",
     "text": [
      "DC차데모\n"
     ]
    }
   ],
   "source": [
    "for tmp_using in soup.find_all(class_='td2'):\n",
    "    for a in tmp_using.find_all('span'):\n",
    "        if len(a.get_text())>3:\n",
    "            break\n",
    "        elif a.get_text()=='사용가능':\n",
    "            break\n",
    "        else:\n",
    "            print(a.get_text())\n",
    "    for a in tmp_using.find_all(class_='ev_type t03'):\n",
    "        print(a.get_text())\n",
    "            "
   ]
  },
  {
   "cell_type": "code",
   "execution_count": null,
   "metadata": {},
   "outputs": [],
   "source": []
  }
 ],
 "metadata": {
  "kernelspec": {
   "display_name": "Python 3",
   "language": "python",
   "name": "python3"
  },
  "language_info": {
   "codemirror_mode": {
    "name": "ipython",
    "version": 3
   },
   "file_extension": ".py",
   "mimetype": "text/x-python",
   "name": "python",
   "nbconvert_exporter": "python",
   "pygments_lexer": "ipython3",
   "version": "3.7.7"
  }
 },
 "nbformat": 4,
 "nbformat_minor": 4
}
