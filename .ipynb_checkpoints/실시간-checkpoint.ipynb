{
 "cells": [
  {
   "cell_type": "code",
   "execution_count": 1,
   "metadata": {},
   "outputs": [],
   "source": [
    "from selenium import webdriver\n",
    "import time\n",
    "import numpy as np\n",
    "import pandas as pd\n",
    "import requests\n",
    "from bs4 import BeautifulSoup\n",
    "from urllib.request import urlopen\n",
    "import pandas as pd\n",
    "from urllib.parse import urljoin\n",
    "import re\n",
    "import time\n",
    "import threading"
   ]
  },
  {
   "cell_type": "code",
   "execution_count": 7,
   "metadata": {},
   "outputs": [],
   "source": [
    "driver =  webdriver.Chrome(executable_path = 'D:\\workspace\\chromedriver.exe' )\n",
    "\n",
    "driver.get('https://ev.or.kr/evmonitor')\n",
    "#time.sleep(5)"
   ]
  },
  {
   "cell_type": "code",
   "execution_count": 3,
   "metadata": {},
   "outputs": [],
   "source": [
    "sid = []\n",
    "name =[]  #이름\n",
    "add = []  #주소\n",
    "u_time =[]  #사용가능시간\n",
    "typ = []  # 구분\n",
    "agency = [] # 운영기관\n",
    "phone = [] # 연락처\n",
    "fee = [] # 충전요금\n",
    "amount = [] # 급속충전량\n",
    "etc = [] # 참고사항\n",
    "nouse = [] # 운전상태\n",
    "using = []\n",
    "ben = []\n",
    "charge = []"
   ]
  },
  {
   "cell_type": "code",
   "execution_count": 4,
   "metadata": {},
   "outputs": [],
   "source": [
    "def get_id():\n",
    "    global sid\n",
    "    for k in range(2,19):\n",
    "        driver.find_element_by_css_selector('#F_SI_DO1')\n",
    "        driver.implicitly_wait(5)\n",
    "        driver.find_element_by_css_selector('#F_SI_DO1 > option:nth-child(%s)'%k).click()\n",
    "        #time.sleep(3)\n",
    "        driver.find_element_by_css_selector('#statList')\n",
    "        driver.implicitly_wait(30)\n",
    "        html = driver.page_source\n",
    "        soup = BeautifulSoup(html, 'html.parser')\n",
    "\n",
    "        a = soup.find_all('div',class_='fw_path')\n",
    "        for link in a:\n",
    "            temp = str(link['sid'])\n",
    "            sid.append(temp)"
   ]
  },
  {
   "cell_type": "code",
   "execution_count": 5,
   "metadata": {},
   "outputs": [],
   "source": [
    "def get_data():\n",
    "    global name\n",
    "    global add\n",
    "    global time\n",
    "    global typ\n",
    "    global agency\n",
    "    global phone\n",
    "    global fee\n",
    "    global amount\n",
    "    global etc\n",
    "    global nouse\n",
    "    global using\n",
    "    global ben\n",
    "    global charge\n",
    "    \n",
    "    for i in sid[0:4]:\n",
    "        url_base = 'https://www.ev.or.kr/portal/monitor/evminfo?sid='\n",
    "        url = url_base+str(i)\n",
    "        html = urlopen(url)\n",
    "        soup = BeautifulSoup(html, 'html.parser')\n",
    "\n",
    "        n_tmp = soup.find_all('h2')\n",
    "        name.append(n_tmp[0].get_text())\n",
    "\n",
    "        t_tmp = soup.find_all('em')\n",
    "        u_time.append(t_tmp[0].get_text())\n",
    "\n",
    "        ty_tmp = soup.find_all('dd')\n",
    "        typ.append(ty_tmp[0].get_text())\n",
    "\n",
    "        info_tmp = soup.find_all(class_='table_02')\n",
    "        dinfo = info_tmp[0].find_all('td')\n",
    "        add.append(dinfo[0].get_text())\n",
    "        agency.append(dinfo[1].get_text())\n",
    "        phone.append(dinfo[2].get_text())\n",
    "        tmp_fee = dinfo[3].get_text()\n",
    "        tmp_fee = re.sub('&nbsp; | &nbsp; |\\n|\\t|\\r|', '', tmp_fee)\n",
    "        fee.append(tmp_fee)\n",
    "        tmp_amount = dinfo[4].get_text()\n",
    "        tmp_amount = re.sub('&nbsp; | &nbsp; |\\n|\\t|\\r|', '', tmp_amount)\n",
    "        amount.append(tmp_amount)\n",
    "        tmp_etc = dinfo[5].get_text()\n",
    "        tmp_etc = re.sub('&nbsp; | &nbsp; |\\n|\\t|\\r|', '', tmp_etc)\n",
    "        etc.append(tmp_etc)\n",
    "        no=0\n",
    "        use=0\n",
    "        den=0\n",
    "        for tmp_using in soup.find_all(class_='td3'):\n",
    "            a = tmp_using.find_all('span')\n",
    "            tmp = a[0].get_text()\n",
    "            if tmp =='사용가능':\n",
    "                no +=1\n",
    "            elif tmp == '사용중':\n",
    "                use +=1\n",
    "            else:\n",
    "                den +=1\n",
    "        nouse.append(no)\n",
    "        using.append(use)\n",
    "        ben.append(den)\n",
    "        \n",
    "    td2 = soup.find_all(class_='td2')\n",
    "    for te in td2[0:]:\n",
    "        test=[]\n",
    "        for a in te.find_all('span'):\n",
    "            if a.get_text()=='사용가능':\n",
    "                break\n",
    "            elif a.get_text()=='사용중':\n",
    "                break\n",
    "            elif a.get_text()=='사용불가':\n",
    "                break\n",
    "            elif a.get_text()==' ':\n",
    "                break\n",
    "            elif len(a.get_text())<6:\n",
    "                tmp=[]\n",
    "                tmp.append(a.get_text())\n",
    "                #print(tmp)\n",
    "                test+=tmp\n",
    "        test= str(\"+\".join(test))\n",
    "        charge.append(test)\n",
    "        if test!=None:\n",
    "            break\n",
    "\n",
    "    t04 = soup.find_all(class_='ev_type t04')\n",
    "    for te in t04[1:]:\n",
    "        print(len(c))\n",
    "        print(c.get_text())\n",
    "        test=[]\n",
    "        for b in te.find_all('span'):\n",
    "            if len(b.get_text())<6:\n",
    "                tmp=[]\n",
    "                tmp.append(b.get_text())\n",
    "                test+=tmp\n",
    "        test= str(\"+\".join(test))\n",
    "        #print(test)\n",
    "        charge.append(test)\n",
    "        if test!=None:\n",
    "            break\n"
   ]
  },
  {
   "cell_type": "code",
   "execution_count": 6,
   "metadata": {},
   "outputs": [
    {
     "name": "stdout",
     "output_type": "stream",
     "text": [
      "==== Wed Aug 26 16:55:48 2020 ====\n",
      "finish\n",
      "finish\n",
      "['DMC 산학협력연구센터', 'Park M (주차복합빌딩)', 'SETEC', 'sh서울주택도시공사'] [0, 0, 0, 0]\n"
     ]
    },
    {
     "ename": "KeyboardInterrupt",
     "evalue": "",
     "output_type": "error",
     "traceback": [
      "\u001b[1;31m---------------------------------------------------------------------------\u001b[0m",
      "\u001b[1;31mKeyboardInterrupt\u001b[0m                         Traceback (most recent call last)",
      "\u001b[1;32m<ipython-input-6-8970ab982afc>\u001b[0m in \u001b[0;36m<module>\u001b[1;34m\u001b[0m\n\u001b[0;32m      9\u001b[0m         \u001b[0mprint\u001b[0m\u001b[1;33m(\u001b[0m\u001b[0mname\u001b[0m\u001b[1;33m,\u001b[0m \u001b[0musing\u001b[0m\u001b[1;33m)\u001b[0m\u001b[1;33m\u001b[0m\u001b[1;33m\u001b[0m\u001b[0m\n\u001b[0;32m     10\u001b[0m     \u001b[0mthreading\u001b[0m\u001b[1;33m.\u001b[0m\u001b[0mTimer\u001b[0m\u001b[1;33m(\u001b[0m\u001b[1;36m2.5\u001b[0m\u001b[1;33m,\u001b[0m \u001b[0mthread_run\u001b[0m\u001b[1;33m)\u001b[0m\u001b[1;33m.\u001b[0m\u001b[0mstart\u001b[0m\u001b[1;33m(\u001b[0m\u001b[1;33m)\u001b[0m\u001b[1;33m\u001b[0m\u001b[1;33m\u001b[0m\u001b[0m\n\u001b[1;32m---> 11\u001b[1;33m \u001b[0mthread_run\u001b[0m\u001b[1;33m(\u001b[0m\u001b[1;33m)\u001b[0m\u001b[1;33m\u001b[0m\u001b[1;33m\u001b[0m\u001b[0m\n\u001b[0m",
      "\u001b[1;32m<ipython-input-6-8970ab982afc>\u001b[0m in \u001b[0;36mthread_run\u001b[1;34m()\u001b[0m\n\u001b[0;32m      3\u001b[0m     \u001b[0mprint\u001b[0m\u001b[1;33m(\u001b[0m\u001b[1;34m'===='\u001b[0m\u001b[1;33m,\u001b[0m\u001b[0mtime\u001b[0m\u001b[1;33m.\u001b[0m\u001b[0mctime\u001b[0m\u001b[1;33m(\u001b[0m\u001b[1;33m)\u001b[0m\u001b[1;33m,\u001b[0m\u001b[1;34m'===='\u001b[0m\u001b[1;33m)\u001b[0m\u001b[1;33m\u001b[0m\u001b[1;33m\u001b[0m\u001b[0m\n\u001b[0;32m      4\u001b[0m     \u001b[1;32mfor\u001b[0m \u001b[0mi\u001b[0m \u001b[1;32min\u001b[0m \u001b[0mrange\u001b[0m\u001b[1;33m(\u001b[0m\u001b[1;36m1\u001b[0m\u001b[1;33m,\u001b[0m\u001b[1;36m50001\u001b[0m\u001b[1;33m)\u001b[0m\u001b[1;33m:\u001b[0m\u001b[1;33m\u001b[0m\u001b[1;33m\u001b[0m\u001b[0m\n\u001b[1;32m----> 5\u001b[1;33m         \u001b[0mget_id\u001b[0m\u001b[1;33m(\u001b[0m\u001b[1;33m)\u001b[0m\u001b[1;33m\u001b[0m\u001b[1;33m\u001b[0m\u001b[0m\n\u001b[0m\u001b[0;32m      6\u001b[0m         \u001b[0mprint\u001b[0m\u001b[1;33m(\u001b[0m\u001b[1;34m'finish'\u001b[0m\u001b[1;33m)\u001b[0m\u001b[1;33m\u001b[0m\u001b[1;33m\u001b[0m\u001b[0m\n\u001b[0;32m      7\u001b[0m         \u001b[0mget_data\u001b[0m\u001b[1;33m(\u001b[0m\u001b[1;33m)\u001b[0m\u001b[1;33m\u001b[0m\u001b[1;33m\u001b[0m\u001b[0m\n",
      "\u001b[1;32m<ipython-input-4-f2180bfbc9a7>\u001b[0m in \u001b[0;36mget_id\u001b[1;34m()\u001b[0m\n\u001b[0;32m      5\u001b[0m         \u001b[0mdriver\u001b[0m\u001b[1;33m.\u001b[0m\u001b[0mimplicitly_wait\u001b[0m\u001b[1;33m(\u001b[0m\u001b[1;36m5\u001b[0m\u001b[1;33m)\u001b[0m\u001b[1;33m\u001b[0m\u001b[1;33m\u001b[0m\u001b[0m\n\u001b[0;32m      6\u001b[0m         \u001b[0mdriver\u001b[0m\u001b[1;33m.\u001b[0m\u001b[0mfind_element_by_css_selector\u001b[0m\u001b[1;33m(\u001b[0m\u001b[1;34m'#F_SI_DO1 > option:nth-child(%s)'\u001b[0m\u001b[1;33m%\u001b[0m\u001b[0mk\u001b[0m\u001b[1;33m)\u001b[0m\u001b[1;33m.\u001b[0m\u001b[0mclick\u001b[0m\u001b[1;33m(\u001b[0m\u001b[1;33m)\u001b[0m\u001b[1;33m\u001b[0m\u001b[1;33m\u001b[0m\u001b[0m\n\u001b[1;32m----> 7\u001b[1;33m         \u001b[0mtime\u001b[0m\u001b[1;33m.\u001b[0m\u001b[0msleep\u001b[0m\u001b[1;33m(\u001b[0m\u001b[1;36m3\u001b[0m\u001b[1;33m)\u001b[0m\u001b[1;33m\u001b[0m\u001b[1;33m\u001b[0m\u001b[0m\n\u001b[0m\u001b[0;32m      8\u001b[0m         \u001b[0mdriver\u001b[0m\u001b[1;33m.\u001b[0m\u001b[0mfind_element_by_css_selector\u001b[0m\u001b[1;33m(\u001b[0m\u001b[1;34m'#statList'\u001b[0m\u001b[1;33m)\u001b[0m\u001b[1;33m\u001b[0m\u001b[1;33m\u001b[0m\u001b[0m\n\u001b[0;32m      9\u001b[0m         \u001b[0mdriver\u001b[0m\u001b[1;33m.\u001b[0m\u001b[0mimplicitly_wait\u001b[0m\u001b[1;33m(\u001b[0m\u001b[1;36m30\u001b[0m\u001b[1;33m)\u001b[0m\u001b[1;33m\u001b[0m\u001b[1;33m\u001b[0m\u001b[0m\n",
      "\u001b[1;31mKeyboardInterrupt\u001b[0m: "
     ]
    }
   ],
   "source": [
    "import time\n",
    "def thread_run():\n",
    "    print('====',time.ctime(),'====')\n",
    "    for i in range(1,50001):\n",
    "        get_id()\n",
    "        print('finish')\n",
    "        get_data()\n",
    "        print('finish')\n",
    "        print(name, using)\n",
    "    threading.Timer(2.5, thread_run).start()\n",
    "thread_run()"
   ]
  },
  {
   "cell_type": "code",
   "execution_count": null,
   "metadata": {},
   "outputs": [],
   "source": [
    "def data_frame():\n",
    "    df = pd.DataFrame({'이름':name, '사용가능시간':u_time,'구분':typ, '사용가능':nouse,'사용중':using,'사용불가':ben,'도로명주소':add,'연락처':phone,'충전요금':fee, '급속충전량':amount,'참고사항':etc})\n",
    "    df.head()"
   ]
  },
  {
   "cell_type": "code",
   "execution_count": null,
   "metadata": {},
   "outputs": [],
   "source": []
  }
 ],
 "metadata": {
  "kernelspec": {
   "display_name": "Python 3",
   "language": "python",
   "name": "python3"
  },
  "language_info": {
   "codemirror_mode": {
    "name": "ipython",
    "version": 3
   },
   "file_extension": ".py",
   "mimetype": "text/x-python",
   "name": "python",
   "nbconvert_exporter": "python",
   "pygments_lexer": "ipython3",
   "version": "3.7.7"
  }
 },
 "nbformat": 4,
 "nbformat_minor": 4
}
