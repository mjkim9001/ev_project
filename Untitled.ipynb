{
 "cells": [
  {
   "cell_type": "code",
   "execution_count": 2,
   "metadata": {},
   "outputs": [],
   "source": [
    "import requests\n",
    "from bs4 import BeautifulSoup\n",
    "from urllib.request import urlopen\n",
    "import pandas as pd\n",
    "from urllib.parse import urljoin"
   ]
  },
  {
   "cell_type": "code",
   "execution_count": 3,
   "metadata": {},
   "outputs": [],
   "source": [
    "b = ['A','B','C']"
   ]
  },
  {
   "cell_type": "code",
   "execution_count": 57,
   "metadata": {},
   "outputs": [],
   "source": [
    "\n",
    "url_base = 'https://www.ev.or.kr/portal/monitor/evminfo?'\n",
    "url_add = 'sid=ME18A288'\n",
    "url = url_base+url_add\n",
    "html = urlopen(url)\n",
    "\n",
    "soup = BeautifulSoup(html, 'html.parser')"
   ]
  },
  {
   "cell_type": "code",
   "execution_count": 5,
   "metadata": {},
   "outputs": [
    {
     "name": "stdout",
     "output_type": "stream",
     "text": [
      "강남구청 삼성로 별관 부설 주차장\n"
     ]
    }
   ],
   "source": [
    "for name in soup.find_all('h2'):\n",
    "    print(name.get_text())"
   ]
  },
  {
   "cell_type": "code",
   "execution_count": 6,
   "metadata": {},
   "outputs": [
    {
     "name": "stdout",
     "output_type": "stream",
     "text": [
      "서울특별시 강남구 삼성로 628  환경부(한국자동차환경협회) 1661-9408 무료\r\n",
      "\t\t\t 급속(100kW멀티)\r\n",
      "\t\t\t 5분당 300원, 주말 무료\r\n",
      "\t\t\t \n"
     ]
    },
    {
     "ename": "IndexError",
     "evalue": "list index out of range",
     "output_type": "error",
     "traceback": [
      "\u001b[1;31m---------------------------------------------------------------------------\u001b[0m",
      "\u001b[1;31mIndexError\u001b[0m                                Traceback (most recent call last)",
      "\u001b[1;32m<ipython-input-6-261c2c91787c>\u001b[0m in \u001b[0;36m<module>\u001b[1;34m\u001b[0m\n\u001b[0;32m     10\u001b[0m \u001b[0mtmp_using\u001b[0m \u001b[1;33m=\u001b[0m \u001b[0msoup\u001b[0m\u001b[1;33m.\u001b[0m\u001b[0mfind_all\u001b[0m\u001b[1;33m(\u001b[0m\u001b[0mclass_\u001b[0m\u001b[1;33m=\u001b[0m\u001b[1;34m'ev_char c01'\u001b[0m\u001b[1;33m)\u001b[0m\u001b[1;33m\u001b[0m\u001b[1;33m\u001b[0m\u001b[0m\n\u001b[0;32m     11\u001b[0m \u001b[0musing\u001b[0m \u001b[1;33m=\u001b[0m\u001b[1;33m[\u001b[0m\u001b[1;33m]\u001b[0m\u001b[1;33m\u001b[0m\u001b[1;33m\u001b[0m\u001b[0m\n\u001b[1;32m---> 12\u001b[1;33m \u001b[0musing\u001b[0m\u001b[1;33m.\u001b[0m\u001b[0mappend\u001b[0m\u001b[1;33m(\u001b[0m\u001b[0mtmp_using\u001b[0m\u001b[1;33m[\u001b[0m\u001b[1;36m0\u001b[0m\u001b[1;33m]\u001b[0m\u001b[1;33m.\u001b[0m\u001b[0mget_text\u001b[0m\u001b[1;33m(\u001b[0m\u001b[1;33m)\u001b[0m\u001b[1;33m)\u001b[0m\u001b[1;33m\u001b[0m\u001b[1;33m\u001b[0m\u001b[0m\n\u001b[0m\u001b[0;32m     13\u001b[0m \u001b[0mprint\u001b[0m\u001b[1;33m(\u001b[0m\u001b[0musing\u001b[0m\u001b[1;33m)\u001b[0m\u001b[1;33m\u001b[0m\u001b[1;33m\u001b[0m\u001b[0m\n",
      "\u001b[1;31mIndexError\u001b[0m: list index out of range"
     ]
    }
   ],
   "source": [
    "tmp = soup.find_all(class_='table_02')\n",
    "dinfo = tmp[0].find_all('td')\n",
    "add = dinfo[0].get_text()\n",
    "agency = dinfo[1].get_text()\n",
    "phone = dinfo[2].get_text()\n",
    "fee = dinfo[3].get_text()\n",
    "amount = dinfo[4].get_text()\n",
    "etc = dinfo[5].get_text()\n",
    "print(add, agency, phone, fee, amount, etc)\n",
    "tmp_using = soup.find_all(class_='ev_char c01')\n",
    "using =[]\n",
    "using.append(tmp_using[0].get_text())\n",
    "print(using)"
   ]
  },
  {
   "cell_type": "code",
   "execution_count": 7,
   "metadata": {},
   "outputs": [
    {
     "data": {
      "text/plain": [
       "'\\n사용중\\n'"
      ]
     },
     "execution_count": 7,
     "metadata": {},
     "output_type": "execute_result"
    }
   ],
   "source": [
    "tmp_using = soup.find_all(class_='td3')\n",
    "tmp_using[0].get_text()\n",
    "#using.append(tmp_using[0].get_text())\n"
   ]
  },
  {
   "cell_type": "code",
   "execution_count": 8,
   "metadata": {},
   "outputs": [],
   "source": [
    "url1 = 'https://www.ev.or.kr'\n",
    "html = urlopen(url1)\n",
    "soup = BeautifulSoup(html, 'html.parser')"
   ]
  },
  {
   "cell_type": "code",
   "execution_count": 9,
   "metadata": {
    "scrolled": false
   },
   "outputs": [
    {
     "data": {
      "text/plain": [
       "[]"
      ]
     },
     "execution_count": 9,
     "metadata": {},
     "output_type": "execute_result"
    }
   ],
   "source": [
    "a = soup.find_all('fw_path')\n",
    "a"
   ]
  },
  {
   "cell_type": "code",
   "execution_count": 10,
   "metadata": {},
   "outputs": [],
   "source": [
    "typ=[]"
   ]
  },
  {
   "cell_type": "code",
   "execution_count": 11,
   "metadata": {
    "scrolled": true
   },
   "outputs": [
    {
     "data": {
      "text/plain": [
       "0"
      ]
     },
     "execution_count": 11,
     "metadata": {},
     "output_type": "execute_result"
    }
   ],
   "source": [
    "ty_tmp = soup.find_all('dd')\n",
    "len(ty_tmp)"
   ]
  },
  {
   "cell_type": "code",
   "execution_count": 12,
   "metadata": {},
   "outputs": [
    {
     "name": "stdout",
     "output_type": "stream",
     "text": [
      "0 0 0\n"
     ]
    }
   ],
   "source": [
    "tmp_using = soup.find_all(class_='td3')\n",
    "nouse=0\n",
    "using=0\n",
    "ben=0\n",
    "for tmp_using in soup.find_all(class_='td3'):\n",
    "    a = tmp_using.find_all('span')\n",
    "    tmp = a[0].get_text()\n",
    "    if tmp =='사용가능':\n",
    "        nouse +=1\n",
    "    elif tmp == '사용중':\n",
    "        using +=1\n",
    "    else:\n",
    "        ben +=1\n",
    "print(nouse, using, ben)"
   ]
  },
  {
   "cell_type": "code",
   "execution_count": 13,
   "metadata": {},
   "outputs": [],
   "source": [
    "for tmp_using in soup.find_all(class_='td2'):\n",
    "    a = tmp_using.find_all('span')\n",
    "    print(a[0].get_text())\n",
    "    print(a[1].get_text())\n",
    "    print(a[2].get_text())"
   ]
  },
  {
   "cell_type": "code",
   "execution_count": 14,
   "metadata": {},
   "outputs": [],
   "source": [
    "for tmp_using in soup.find_all(class_='td2'):\n",
    "    for a in tmp_using.find_all('span'):\n",
    "        if a.get_text()=='사용가능':\n",
    "            break\n",
    "        else:\n",
    "            print(a.get_text())"
   ]
  },
  {
   "cell_type": "code",
   "execution_count": 15,
   "metadata": {},
   "outputs": [
    {
     "name": "stdout",
     "output_type": "stream",
     "text": [
      "[]\n",
      "[]\n"
     ]
    }
   ],
   "source": [
    "tmp=[]\n",
    "i=[]\n",
    "j=[]\n",
    "for tmp_using in soup.find_all(class_='td2'):\n",
    "    for a in tmp_using.find_all('span'):\n",
    "        if len(a.get_text())>6:\n",
    "            break\n",
    "        if a.get_text()=='사용가능':\n",
    "            break\n",
    "        elif a.get_text()=='사용중':\n",
    "            break\n",
    "        elif a.get_text()=='사용불가':\n",
    "            break\n",
    "        else:\n",
    "            tmp.append(a.get_text())\n",
    "    j.append(tmp)\n",
    "    for tmp_using in soup.find_all(class_='ev_type t03'):\n",
    "        for b in tmp_using.find_all('span'):\n",
    "            print(b)\n",
    "            print(b.get_text())\n",
    "            if len(b.get_text())<6:\n",
    "                tmp.append(b.get_text())\n",
    "        i.append(tmp)\n",
    "print(j)\n",
    "print(i)"
   ]
  },
  {
   "cell_type": "code",
   "execution_count": 17,
   "metadata": {},
   "outputs": [
    {
     "ename": "IndentationError",
     "evalue": "unindent does not match any outer indentation level (<tokenize>, line 16)",
     "output_type": "error",
     "traceback": [
      "\u001b[1;36m  File \u001b[1;32m\"<tokenize>\"\u001b[1;36m, line \u001b[1;32m16\u001b[0m\n\u001b[1;33m    for tmp_using in soup.find_all(class_='ev_type t03'):\u001b[0m\n\u001b[1;37m    ^\u001b[0m\n\u001b[1;31mIndentationError\u001b[0m\u001b[1;31m:\u001b[0m unindent does not match any outer indentation level\n"
     ]
    }
   ],
   "source": [
    "for tmp_using in soup.find_all(class_='td2'):\n",
    "        for a in tmp_using.find_all('span'):\n",
    "            #print(a)\n",
    "            if len(a.get_text())>6:\n",
    "                break\n",
    "            if a.get_text()=='사용가능':\n",
    "                break\n",
    "            elif a.get_text()=='사용중':\n",
    "                break\n",
    "            elif a.get_text()=='사용불가':\n",
    "                break\n",
    "            else:\n",
    "                temp.append(a.get_text())\n",
    "        charge.append(temp)\n",
    "        tmp=[]\n",
    "    for tmp_using in soup.find_all(class_='ev_type t03'):\n",
    "        for b in tmp_using.find_all('span'):\n",
    "            if len(b.get_text())>6:\n",
    "                break\n",
    "            else:\n",
    "                tmp.append(b.get_text())\n",
    "            #print(tmp)\n",
    "        charge.append(tmp)\n",
    "    #print(len(charge), charge)"
   ]
  },
  {
   "cell_type": "code",
   "execution_count": 47,
   "metadata": {
    "scrolled": true
   },
   "outputs": [
    {
     "name": "stdout",
     "output_type": "stream",
     "text": [
      "[<td class=\"td2\">\n",
      "<dvi class=\"ev_type t03\">\n",
      "<span style=\"display:inline-block;text-align:center;border:0px solid #000000;width:30px;height:22px;background:url(/mobile/images/common/ev_type_dc.png) no-repeat center 0; background-size:20px 20px;\"> \r\n",
      "\t\t\t </span>\n",
      "<br/>\n",
      "<span style=\"text-decoration:underline;\">DC콤보</span>\n",
      "<span style=\"font-size:12px;\"><br/>아이오닉<br/>스파크<br/>볼트<br/>i3<br/>코나<br/>쏘울<br/>니로</span>\n",
      "</dvi>\n",
      "</td>, <td class=\"td2\">\n",
      "<dvi class=\"ev_type t03\">\n",
      "<span style=\"display:inline-block;text-align:center;border:0px solid #000000;width:30px;height:22px;background:url(/mobile/images/common/ev_type_dc.png) no-repeat center 0; background-size:20px 20px;\"> \r\n",
      "\t\t\t </span>\n",
      "<br/>\n",
      "<span style=\"text-decoration:underline;\">DC콤보</span>\n",
      "<span style=\"font-size:12px;\"><br/>아이오닉<br/>스파크<br/>볼트<br/>i3<br/>코나<br/>쏘울<br/>니로</span>\n",
      "</dvi>\n",
      "</td>]\n",
      "['DC콤보']\n"
     ]
    }
   ],
   "source": [
    "charge=[]\n",
    "temp=[]\n",
    "for tmp_using in soup.find_all(class_='table_01'):\n",
    "    if len(tmp_using)<=5:\n",
    "        for a in tmp_using.find_all('span'):\n",
    "            print(a)\n",
    "            if len(a.get_text())>6:\n",
    "                break\n",
    "            if a.get_text()=='사용가능':\n",
    "                break\n",
    "            elif a.get_text()=='사용중':\n",
    "                break\n",
    "            elif a.get_text()=='사용불가':\n",
    "                break\n",
    "            else:\n",
    "                temp.append(a.get_text())\n",
    "        charge.append(temp)\n",
    "        print(charge)\n",
    "        \n",
    "    td2 = soup.find_all(class_='td2')\n",
    "    print(td2)\n",
    "    for te in td2[0:]:\n",
    "        test=[]\n",
    "        for a in te.find_all('span'):\n",
    "            if a.get_text()=='사용가능':\n",
    "                break\n",
    "            elif a.get_text()=='사용중':\n",
    "                break\n",
    "            elif a.get_text()=='사용불가':\n",
    "                break\n",
    "            elif a.get_text()==' ':\n",
    "                break\n",
    "            elif len(a.get_text())<6:\n",
    "                tmp=[]\n",
    "                tmp.append(a.get_text())\n",
    "                #print(tmp)\n",
    "                test+=tmp\n",
    "        test= str(\"+\".join(test))\n",
    "        charge.append(test)\n",
    "        print(charge)\n",
    "        if test!=None:\n",
    "            break\n",
    "            \n",
    "        #print(tmp_using.fina_all('div'))\n",
    "        #print(tmp_using)\n",
    "        #print(len(tmp_using))\n",
    "    else:\n",
    "        print()\n",
    "        #print(tmp_using.fina_all('div'))\n",
    "        print(tmp_using)\n",
    "        print(len(tmp_using))"
   ]
  },
  {
   "cell_type": "code",
   "execution_count": 55,
   "metadata": {
    "scrolled": true
   },
   "outputs": [
    {
     "name": "stdout",
     "output_type": "stream",
     "text": [
      "[<span style=\"display:inline-block;text-align:center;border:0px solid #000000;width:30px;height:22px;background:url(/mobile/images/common/ev_type_dc.png) no-repeat center 0; background-size:20px 20px;\"> \r\n",
      "\t\t\t </span>, <span style=\"text-decoration:underline;\">DC콤보</span>, <span style=\"font-size:12px;\"><br/>아이오닉<br/>스파크<br/>볼트<br/>i3<br/>코나<br/>쏘울<br/>니로</span>]\n",
      "11\n",
      "[<span style=\"display:inline-block;text-align:center;border:0px solid #000000;width:30px;height:22px;background:url(/mobile/images/common/ev_type_dc.png) no-repeat center 0; background-size:20px 20px;\"> \r\n",
      "\t\t\t </span>, <span style=\"text-decoration:underline;\">DC콤보</span>, <span style=\"font-size:12px;\"><br/>아이오닉<br/>스파크<br/>볼트<br/>i3<br/>코나<br/>쏘울<br/>니로</span>]\n",
      "11\n"
     ]
    }
   ],
   "source": [
    "for tmp_using in soup.find_all(class_='td2'):\n",
    "    if len('ev_type t03')>=11:\n",
    "        print(tmp_using.find_all('span'))\n",
    "    print(len('ev_type t03'))"
   ]
  },
  {
   "cell_type": "code",
   "execution_count": 141,
   "metadata": {},
   "outputs": [],
   "source": [
    "name =[]  #이름\n",
    "add = []  #주소\n",
    "time =[]  #사용가능시간\n",
    "typ = []  # 구분\n",
    "agency = [] # 운영기관\n",
    "phone = [] # 연락처\n",
    "fee = [] # 충전요금\n",
    "amount = [] # 급속충전량\n",
    "etc = [] # 참고사항\n",
    "nouse = [] # 운전상태\n",
    "using = []\n",
    "ben = []\n",
    "charge = []"
   ]
  },
  {
   "cell_type": "code",
   "execution_count": 142,
   "metadata": {},
   "outputs": [
    {
     "name": "stdout",
     "output_type": "stream",
     "text": [
      "['계룡농협하나로마트', '계룡농협하나로마트'] ['DC콤보', 'DC콤보'] ['\\n사용가능\\n', '\\n사용가능\\n'] ['충청남도 논산시 연산면 청동로 34 ', '충청남도 논산시 연산면 청동로 34 '] ['24시간 이용가능', '24시간 이용가능'] ['1661-9408', '1661-9408']\n"
     ]
    }
   ],
   "source": [
    "import re\n",
    "charge=[]\n",
    "tmp_using = soup.find_all(class_='ev_type t03')\n",
    "#print(tmp_using)\n",
    "for te in tmp_using[0:]:\n",
    "    #print(te)\n",
    "    for a in te.find_all('span'):\n",
    "        if a.get_text()==' ':\n",
    "            break\n",
    "        elif len(a.get_text())<6:\n",
    "            charge.append(a.get_text())\n",
    "            \n",
    "            n_tmp = soup.find_all('h2')\n",
    "            name.append(n_tmp[0].get_text())\n",
    "\n",
    "            t_tmp = soup.find_all('em')\n",
    "            time.append(t_tmp[0].get_text())\n",
    "\n",
    "            ty_tmp = soup.find_all('dd')\n",
    "            typ.append(ty_tmp[0].get_text())\n",
    "\n",
    "            info_tmp = soup.find_all(class_='table_02')\n",
    "            dinfo = info_tmp[0].find_all('td')\n",
    "            add.append(dinfo[0].get_text())\n",
    "            agency.append(dinfo[1].get_text())\n",
    "            phone.append(dinfo[2].get_text())\n",
    "    \n",
    "            tmp_fee = dinfo[3].get_text()\n",
    "            tmp_fee = re.sub('&nbsp; | &nbsp; |\\n|\\t|\\r|', '', tmp_fee)\n",
    "            fee.append(tmp_fee)\n",
    "            \n",
    "            tmp_amount = dinfo[4].get_text()\n",
    "            tmp_amount = re.sub('&nbsp; | &nbsp; |\\n|\\t|\\r|', '', tmp_amount)\n",
    "            amount.append(tmp_amount)\n",
    "            \n",
    "            tmp_etc = dinfo[5].get_text()\n",
    "            tmp_etc = re.sub('&nbsp; | &nbsp; |\\n|\\t|\\r|', '', tmp_etc)\n",
    "            etc.append(tmp_etc)\n",
    "            \n",
    "            for u_tmp in soup.find_all(class_='td3'):\n",
    "                using.append(u_tmp.get_text())\n",
    "                break\n",
    "            #print(using)\n",
    "                #for a in u_tmp.find_all('span'):\n",
    "                #print(u_tmp)\n",
    "                    #using.append(u_tmp.get_text())\n",
    "            \n",
    "print(name, charge, using, add, time, phone)"
   ]
  },
  {
   "cell_type": "code",
   "execution_count": null,
   "metadata": {},
   "outputs": [],
   "source": []
  }
 ],
 "metadata": {
  "kernelspec": {
   "display_name": "Python 3",
   "language": "python",
   "name": "python3"
  },
  "language_info": {
   "codemirror_mode": {
    "name": "ipython",
    "version": 3
   },
   "file_extension": ".py",
   "mimetype": "text/x-python",
   "name": "python",
   "nbconvert_exporter": "python",
   "pygments_lexer": "ipython3",
   "version": "3.7.7"
  }
 },
 "nbformat": 4,
 "nbformat_minor": 4
}
