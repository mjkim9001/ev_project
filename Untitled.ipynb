{
 "cells": [
  {
   "cell_type": "code",
   "execution_count": 1,
   "metadata": {},
   "outputs": [],
   "source": [
    "import requests\n",
    "from bs4 import BeautifulSoup\n",
    "from urllib.request import urlopen\n",
    "import pandas as pd\n",
    "from urllib.parse import urljoin"
   ]
  },
  {
   "cell_type": "code",
   "execution_count": 68,
   "metadata": {},
   "outputs": [],
   "source": [
    "b = ['A','B','C']"
   ]
  },
  {
   "cell_type": "code",
   "execution_count": 5,
   "metadata": {},
   "outputs": [],
   "source": [
    "\n",
    "url_base = 'https://www.ev.or.kr/portal/monitor/evminfo?'\n",
    "url_add = 'sid=ME19A166'\n",
    "url = url_base+url_add\n",
    "html = urlopen(url)\n",
    "\n",
    "soup = BeautifulSoup(html, 'html.parser')"
   ]
  },
  {
   "cell_type": "code",
   "execution_count": 18,
   "metadata": {},
   "outputs": [
    {
     "name": "stdout",
     "output_type": "stream",
     "text": [
      "KH양주휴게소\n"
     ]
    }
   ],
   "source": [
    "for name in soup.find_all('h2'):\n",
    "    print(name.get_text())"
   ]
  },
  {
   "cell_type": "code",
   "execution_count": 103,
   "metadata": {},
   "outputs": [
    {
     "name": "stdout",
     "output_type": "stream",
     "text": [
      "경기도 양주시 장흥면 서울외곽순환고속도로 58  환경부(한국자동차환경협회) 1661-9408 유료\r\n",
      "\t\t\t 급속(50kW)\r\n",
      "\t\t\t \r\n",
      "\t\t\t없음 \n",
      "['사용가능']\n"
     ]
    }
   ],
   "source": [
    "tmp = soup.find_all(class_='table_02')\n",
    "dinfo = tmp[0].find_all('td')\n",
    "add = dinfo[0].get_text()\n",
    "agency = dinfo[1].get_text()\n",
    "phone = dinfo[2].get_text()\n",
    "fee = dinfo[3].get_text()\n",
    "amount = dinfo[4].get_text()\n",
    "etc = dinfo[5].get_text()\n",
    "print(add, agency, phone, fee, amount, etc)\n",
    "tmp_using = soup.find_all(class_='ev_char c01')\n",
    "using =[]\n",
    "using.append(tmp_using[0].get_text())\n",
    "print(using)"
   ]
  },
  {
   "cell_type": "code",
   "execution_count": 121,
   "metadata": {},
   "outputs": [
    {
     "data": {
      "text/plain": [
       "'\\n사용중\\n'"
      ]
     },
     "execution_count": 121,
     "metadata": {},
     "output_type": "execute_result"
    }
   ],
   "source": [
    "tmp_using = soup.find_all(class_='td3')\n",
    "tmp_using[0].get_text()\n",
    "#using.append(tmp_using[0].get_text())\n"
   ]
  },
  {
   "cell_type": "code",
   "execution_count": 4,
   "metadata": {},
   "outputs": [],
   "source": [
    "url1 = 'https://www.ev.or.kr'\n",
    "html = urlopen(url1)\n",
    "soup = BeautifulSoup(html, 'html.parser')"
   ]
  },
  {
   "cell_type": "code",
   "execution_count": 5,
   "metadata": {
    "scrolled": false
   },
   "outputs": [
    {
     "data": {
      "text/plain": [
       "[]"
      ]
     },
     "execution_count": 5,
     "metadata": {},
     "output_type": "execute_result"
    }
   ],
   "source": [
    "a = soup.find_all('fw_path')\n",
    "a"
   ]
  },
  {
   "cell_type": "code",
   "execution_count": 161,
   "metadata": {},
   "outputs": [],
   "source": [
    "typ=[]"
   ]
  },
  {
   "cell_type": "code",
   "execution_count": 164,
   "metadata": {
    "scrolled": true
   },
   "outputs": [
    {
     "data": {
      "text/plain": [
       "2"
      ]
     },
     "execution_count": 164,
     "metadata": {},
     "output_type": "execute_result"
    }
   ],
   "source": [
    "ty_tmp = soup.find_all('dd')\n",
    "len(ty_tmp)"
   ]
  },
  {
   "cell_type": "code",
   "execution_count": 177,
   "metadata": {},
   "outputs": [
    {
     "name": "stdout",
     "output_type": "stream",
     "text": [
      "2 0 0\n"
     ]
    }
   ],
   "source": [
    "tmp_using = soup.find_all(class_='td3')\n",
    "nouse=0\n",
    "using=0\n",
    "ben=0\n",
    "for tmp_using in soup.find_all(class_='td3'):\n",
    "    a = tmp_using.find_all('span')\n",
    "    tmp = a[0].get_text()\n",
    "    if tmp =='사용가능':\n",
    "        nouse +=1\n",
    "    elif tmp == '사용중':\n",
    "        using +=1\n",
    "    else:\n",
    "        ben +=1\n",
    "print(nouse, using, ben)"
   ]
  },
  {
   "cell_type": "code",
   "execution_count": 63,
   "metadata": {},
   "outputs": [
    {
     "name": "stdout",
     "output_type": "stream",
     "text": [
      "DC차데모\n",
      "AC3상\n"
     ]
    },
    {
     "ename": "IndexError",
     "evalue": "list index out of range",
     "output_type": "error",
     "traceback": [
      "\u001b[1;31m---------------------------------------------------------------------------\u001b[0m",
      "\u001b[1;31mIndexError\u001b[0m                                Traceback (most recent call last)",
      "\u001b[1;32m<ipython-input-63-8d7146570e59>\u001b[0m in \u001b[0;36m<module>\u001b[1;34m\u001b[0m\n\u001b[0;32m      3\u001b[0m     \u001b[0mprint\u001b[0m\u001b[1;33m(\u001b[0m\u001b[0ma\u001b[0m\u001b[1;33m[\u001b[0m\u001b[1;36m0\u001b[0m\u001b[1;33m]\u001b[0m\u001b[1;33m.\u001b[0m\u001b[0mget_text\u001b[0m\u001b[1;33m(\u001b[0m\u001b[1;33m)\u001b[0m\u001b[1;33m)\u001b[0m\u001b[1;33m\u001b[0m\u001b[1;33m\u001b[0m\u001b[0m\n\u001b[0;32m      4\u001b[0m     \u001b[0mprint\u001b[0m\u001b[1;33m(\u001b[0m\u001b[0ma\u001b[0m\u001b[1;33m[\u001b[0m\u001b[1;36m1\u001b[0m\u001b[1;33m]\u001b[0m\u001b[1;33m.\u001b[0m\u001b[0mget_text\u001b[0m\u001b[1;33m(\u001b[0m\u001b[1;33m)\u001b[0m\u001b[1;33m)\u001b[0m\u001b[1;33m\u001b[0m\u001b[1;33m\u001b[0m\u001b[0m\n\u001b[1;32m----> 5\u001b[1;33m     \u001b[0mprint\u001b[0m\u001b[1;33m(\u001b[0m\u001b[0ma\u001b[0m\u001b[1;33m[\u001b[0m\u001b[1;36m2\u001b[0m\u001b[1;33m]\u001b[0m\u001b[1;33m.\u001b[0m\u001b[0mget_text\u001b[0m\u001b[1;33m(\u001b[0m\u001b[1;33m)\u001b[0m\u001b[1;33m)\u001b[0m\u001b[1;33m\u001b[0m\u001b[1;33m\u001b[0m\u001b[0m\n\u001b[0m",
      "\u001b[1;31mIndexError\u001b[0m: list index out of range"
     ]
    }
   ],
   "source": [
    "for tmp_using in soup.find_all(class_='td2'):\n",
    "    a = tmp_using.find_all('span')\n",
    "    print(a[0].get_text())\n",
    "    print(a[1].get_text())\n",
    "    print(a[2].get_text())"
   ]
  },
  {
   "cell_type": "code",
   "execution_count": 64,
   "metadata": {},
   "outputs": [
    {
     "name": "stdout",
     "output_type": "stream",
     "text": [
      "DC차데모\n",
      "AC3상\n"
     ]
    }
   ],
   "source": [
    "for tmp_using in soup.find_all(class_='td2'):\n",
    "    for a in tmp_using.find_all('span'):\n",
    "        if a.get_text()=='사용가능':\n",
    "            break\n",
    "        else:\n",
    "            print(a.get_text())"
   ]
  },
  {
   "cell_type": "code",
   "execution_count": 37,
   "metadata": {},
   "outputs": [
    {
     "name": "stdout",
     "output_type": "stream",
     "text": [
      "<span style=\"display:inline-block;text-align:center;border:0px solid #000000;width:30px;height:22px;background:url(/mobile/images/common/ev_type_dc.png) no-repeat center 0; background-size:20px 20px;\"> \r\n",
      "\t\t\t </span>\n",
      " \r\n",
      "\t\t\t \n",
      "<span style=\"text-decoration:underline;\">DC콤보</span>\n",
      "DC콤보\n",
      "<span style=\"font-size:12px;\"><br/>아이오닉<br/>스파크<br/>볼트<br/>i3<br/>코나<br/>쏘울<br/>니로</span>\n",
      "아이오닉스파크볼트i3코나쏘울니로\n",
      "[['DC콤보']]\n",
      "[['DC콤보']]\n"
     ]
    }
   ],
   "source": [
    "tmp=[]\n",
    "i=[]\n",
    "j=[]\n",
    "for tmp_using in soup.find_all(class_='td2'):\n",
    "    for a in tmp_using.find_all('span'):\n",
    "        if len(a.get_text())>6:\n",
    "            break\n",
    "        if a.get_text()=='사용가능':\n",
    "            break\n",
    "        elif a.get_text()=='사용중':\n",
    "            break\n",
    "        elif a.get_text()=='사용불가':\n",
    "            break\n",
    "        else:\n",
    "            tmp.append(a.get_text())\n",
    "    j.append(tmp)\n",
    "    for tmp_using in soup.find_all(class_='ev_type t03'):\n",
    "        for b in tmp_using.find_all('span'):\n",
    "            print(b)\n",
    "            print(b.get_text())\n",
    "            if len(b.get_text())<6:\n",
    "                tmp.append(b.get_text())\n",
    "        i.append(tmp)\n",
    "print(j)\n",
    "print(i)"
   ]
  },
  {
   "cell_type": "code",
   "execution_count": null,
   "metadata": {},
   "outputs": [],
   "source": [
    "for tmp_using in soup.find_all(class_='td2'):\n",
    "        for a in tmp_using.find_all('span'):\n",
    "            #print(a)\n",
    "            if len(a.get_text())>6:\n",
    "                break\n",
    "            if a.get_text()=='사용가능':\n",
    "                break\n",
    "            elif a.get_text()=='사용중':\n",
    "                break\n",
    "            elif a.get_text()=='사용불가':\n",
    "                break\n",
    "            else:\n",
    "                temp.append(a.get_text())\n",
    "        charge.append(temp)\n",
    "        tmp=[]\n",
    "    for tmp_using in soup.find_all(class_='ev_type t03'):\n",
    "        for b in tmp_using.find_all('span'):\n",
    "            if len(b.get_text())>6:\n",
    "                break\n",
    "            else:\n",
    "                tmp.append(b.get_text())\n",
    "            #print(tmp)\n",
    "        charge.append(tmp)\n",
    "    #print(len(charge), charge)"
   ]
  },
  {
   "cell_type": "code",
   "execution_count": null,
   "metadata": {},
   "outputs": [],
   "source": []
  }
 ],
 "metadata": {
  "kernelspec": {
   "display_name": "Python 3",
   "language": "python",
   "name": "python3"
  },
  "language_info": {
   "codemirror_mode": {
    "name": "ipython",
    "version": 3
   },
   "file_extension": ".py",
   "mimetype": "text/x-python",
   "name": "python",
   "nbconvert_exporter": "python",
   "pygments_lexer": "ipython3",
   "version": "3.7.7"
  }
 },
 "nbformat": 4,
 "nbformat_minor": 4
}
